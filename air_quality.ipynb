{
 "cells": [
  {
   "cell_type": "code",
   "execution_count": 109,
   "metadata": {},
   "outputs": [],
   "source": [
    "import pandas as pd\n",
    "import numpy as np"
   ]
  },
  {
   "cell_type": "code",
   "execution_count": 110,
   "metadata": {},
   "outputs": [],
   "source": [
    "ground = pd.read_csv('BRITS/air_raw/pm25_ground.txt')\n",
    "missing = pd.read_csv('BRITS/air_raw/pm25_missing.txt')\n",
    "ground1 = ground.drop('datetime',axis=1)"
   ]
  },
  {
   "cell_type": "code",
   "execution_count": 115,
   "metadata": {},
   "outputs": [],
   "source": [
    "out_array = ground1.to_numpy()"
   ]
  },
  {
   "cell_type": "code",
   "execution_count": 151,
   "metadata": {
    "scrolled": true
   },
   "outputs": [],
   "source": [
    "validation_ranges = list(range(744,1463)) + list(range(2951,3671)) + list(range(5135,5879)) + list(range(7295,8039))\n",
    "train_ranges = list(set(range(ground.shape[0]))-set(validation_ranges))\n",
    "train_ranges.sort()\n",
    "train_ranges = train_ranges[50:-50]"
   ]
  },
  {
   "cell_type": "code",
   "execution_count": 103,
   "metadata": {
    "scrolled": true
   },
   "outputs": [],
   "source": [
    "final_validation_points = []\n",
    "sensors = ['001001', '001002', '001003', '001004', '001005', '001006',\n",
    "       '001007', '001008', '001009', '001010', '001011', '001012',\n",
    "       '001013', '001014', '001015', '001016', '001017', '001018',\n",
    "       '001019', '001020', '001021', '001022', '001023', '001024',\n",
    "       '001025', '001026', '001027', '001028', '001029', '001030',\n",
    "       '001031', '001032', '001033', '001034', '001035', '001036']\n",
    "\n",
    "def prev_month(date='2015/09/01 00:00:00'):\n",
    "    prev_month = int(date[5:7])-1\n",
    "    \n",
    "    needed_str = '0%d'%prev_month if prev_month<10 else '%d'%prev_month\n",
    "    return date[:5]+needed_str+date[7:]\n",
    "\n",
    "for x in validation_ranges:\n",
    "    try :\n",
    "        t = ground.iloc[x]\n",
    "        prev = ground.loc[ground['datetime'] == prev_month(t['datetime'])].iloc[0]\n",
    "        for y in sensors :\n",
    "            if (not np.isnan(t[y]) and (not np.isnan(prev[y]))):\n",
    "                final_validation_points.append((x,y))\n",
    "    except Exception as e:\n",
    "        continue\n",
    "final_validation_points = [[x[0],int(x[1])-1001] for x in final_validation_points]"
   ]
  },
  {
   "cell_type": "code",
   "execution_count": 152,
   "metadata": {},
   "outputs": [],
   "source": [
    "final_train_points = []\n",
    "for i in train_ranges:\n",
    "    for j in range(36):\n",
    "        if (not np.isnan(out_array[i][j])):\n",
    "            final_train_points.append([i,j])"
   ]
  },
  {
   "cell_type": "code",
   "execution_count": 153,
   "metadata": {},
   "outputs": [],
   "source": [
    "all_examples = []\n",
    "for i in range(50,out_array.shape[0]-50):\n",
    "    for j in range(out_array.shape[1]):\n",
    "        all_examples.append([i,j])"
   ]
  },
  {
   "cell_type": "code",
   "execution_count": 154,
   "metadata": {},
   "outputs": [],
   "source": [
    "np.save('dataset/1dair_complete',out_array)\n",
    "np.save('dataset/1dair_test_examples.npy',np.array(final_validation_points))\n",
    "np.save('dataset/1dair_train_examples.npy',np.array(final_train_points))\n",
    "np.save('dataset/1dair_all_examples.npy',np.array(all_examples))"
   ]
  }
 ],
 "metadata": {
  "kernelspec": {
   "display_name": "Python 3",
   "language": "python",
   "name": "python3"
  },
  "language_info": {
   "codemirror_mode": {
    "name": "ipython",
    "version": 3
   },
   "file_extension": ".py",
   "mimetype": "text/x-python",
   "name": "python",
   "nbconvert_exporter": "python",
   "pygments_lexer": "ipython3",
   "version": "3.6.9"
  }
 },
 "nbformat": 4,
 "nbformat_minor": 4
}
