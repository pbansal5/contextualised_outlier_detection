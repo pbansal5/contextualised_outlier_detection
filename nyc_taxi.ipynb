{
 "cells": [
  {
   "cell_type": "code",
   "execution_count": 16,
   "metadata": {},
   "outputs": [],
   "source": [
    "import numpy as np\n",
    "import pandas as pd\n",
    "\n",
    "df = pd.read_csv('/mnt/blossom/more/pbansal/dataset/nyc_taxi/yellow_tripdata_2019-01.csv')\n",
    "lookup = pd.read_csv('/mnt/blossom/more/pbansal/dataset/nyc_taxi/taxi+_zone_lookup.csv')\n",
    "zone_lookup = dict({})\n",
    "borough_to_code = {\"Brooklyn\":0,\"Manhattan\":1,\"Queens\":2,\"Bronx\":3,\"Unknown\":4,\"EWR\":5,\"Staten Island\":6}\n",
    "for x in lookup.iterrows():\n",
    "    zone_lookup[x[1]['LocationID']] = borough_to_code[x[1]['Borough']]"
   ]
  },
  {
   "cell_type": "code",
   "execution_count": 17,
   "metadata": {},
   "outputs": [
    {
     "name": "stderr",
     "output_type": "stream",
     "text": [
      "/mnt/a99/d0/pbansal/.local/lib/python3.6/site-packages/ipykernel_launcher.py:2: SettingWithCopyWarning: \n",
      "A value is trying to be set on a copy of a slice from a DataFrame.\n",
      "Try using .loc[row_indexer,col_indexer] = value instead\n",
      "\n",
      "See the caveats in the documentation: https://pandas.pydata.org/pandas-docs/stable/user_guide/indexing.html#returning-a-view-versus-a-copy\n",
      "  \n",
      "/mnt/a99/d0/pbansal/.local/lib/python3.6/site-packages/ipykernel_launcher.py:6: SettingWithCopyWarning: \n",
      "A value is trying to be set on a copy of a slice from a DataFrame.\n",
      "Try using .loc[row_indexer,col_indexer] = value instead\n",
      "\n",
      "See the caveats in the documentation: https://pandas.pydata.org/pandas-docs/stable/user_guide/indexing.html#returning-a-view-versus-a-copy\n",
      "  \n"
     ]
    }
   ],
   "source": [
    "data = df[['tpep_pickup_datetime','PULocationID','DOLocationID','passenger_count']]\n",
    "data['discrete_time'] = 0\n",
    "def foo(x):\n",
    "    date_time = pd.to_datetime(x['tpep_pickup_datetime'])\n",
    "    return (((date_time.year-2019)*12 + (date_time.month-1))*31 + (date_time.day-1))#*24 + date_time.hour\n",
    "data['discrete_time'] = data.apply(lambda x : foo(x),axis=1)\n",
    "# data['DOZone'] = data.apply(lambda x : zone_lookup[x['DOLocationID']],axis=1)\n",
    "# data['PUZone'] = data.apply(lambda x : zone_lookup[x['PULocationID']],axis=1)"
   ]
  },
  {
   "cell_type": "code",
   "execution_count": 18,
   "metadata": {},
   "outputs": [],
   "source": [
    "data_19 = data.loc[data['discrete_time'] >= 0].loc[data['discrete_time'] <= 30][['discrete_time','PULocationID','DOLocationID','passenger_count']]\n",
    "data_19 = data_19.groupby([\"discrete_time\",\"PULocationID\",\"DOLocationID\"],as_index=False).sum()"
   ]
  },
  {
   "cell_type": "code",
   "execution_count": 19,
   "metadata": {
    "scrolled": true
   },
   "outputs": [
    {
     "data": {
      "text/html": [
       "<div>\n",
       "<style scoped>\n",
       "    .dataframe tbody tr th:only-of-type {\n",
       "        vertical-align: middle;\n",
       "    }\n",
       "\n",
       "    .dataframe tbody tr th {\n",
       "        vertical-align: top;\n",
       "    }\n",
       "\n",
       "    .dataframe thead th {\n",
       "        text-align: right;\n",
       "    }\n",
       "</style>\n",
       "<table border=\"1\" class=\"dataframe\">\n",
       "  <thead>\n",
       "    <tr style=\"text-align: right;\">\n",
       "      <th></th>\n",
       "      <th>discrete_time</th>\n",
       "      <th>PULocationID</th>\n",
       "      <th>DOLocationID</th>\n",
       "      <th>passenger_count</th>\n",
       "    </tr>\n",
       "  </thead>\n",
       "  <tbody>\n",
       "    <tr>\n",
       "      <th>0</th>\n",
       "      <td>0</td>\n",
       "      <td>1</td>\n",
       "      <td>1</td>\n",
       "      <td>39</td>\n",
       "    </tr>\n",
       "    <tr>\n",
       "      <th>1</th>\n",
       "      <td>0</td>\n",
       "      <td>1</td>\n",
       "      <td>132</td>\n",
       "      <td>3</td>\n",
       "    </tr>\n",
       "    <tr>\n",
       "      <th>2</th>\n",
       "      <td>0</td>\n",
       "      <td>3</td>\n",
       "      <td>3</td>\n",
       "      <td>2</td>\n",
       "    </tr>\n",
       "    <tr>\n",
       "      <th>3</th>\n",
       "      <td>0</td>\n",
       "      <td>3</td>\n",
       "      <td>51</td>\n",
       "      <td>2</td>\n",
       "    </tr>\n",
       "    <tr>\n",
       "      <th>4</th>\n",
       "      <td>0</td>\n",
       "      <td>3</td>\n",
       "      <td>61</td>\n",
       "      <td>1</td>\n",
       "    </tr>\n",
       "    <tr>\n",
       "      <th>...</th>\n",
       "      <td>...</td>\n",
       "      <td>...</td>\n",
       "      <td>...</td>\n",
       "      <td>...</td>\n",
       "    </tr>\n",
       "    <tr>\n",
       "      <th>324276</th>\n",
       "      <td>30</td>\n",
       "      <td>265</td>\n",
       "      <td>239</td>\n",
       "      <td>1</td>\n",
       "    </tr>\n",
       "    <tr>\n",
       "      <th>324277</th>\n",
       "      <td>30</td>\n",
       "      <td>265</td>\n",
       "      <td>257</td>\n",
       "      <td>1</td>\n",
       "    </tr>\n",
       "    <tr>\n",
       "      <th>324278</th>\n",
       "      <td>30</td>\n",
       "      <td>265</td>\n",
       "      <td>262</td>\n",
       "      <td>1</td>\n",
       "    </tr>\n",
       "    <tr>\n",
       "      <th>324279</th>\n",
       "      <td>30</td>\n",
       "      <td>265</td>\n",
       "      <td>264</td>\n",
       "      <td>2</td>\n",
       "    </tr>\n",
       "    <tr>\n",
       "      <th>324280</th>\n",
       "      <td>30</td>\n",
       "      <td>265</td>\n",
       "      <td>265</td>\n",
       "      <td>171</td>\n",
       "    </tr>\n",
       "  </tbody>\n",
       "</table>\n",
       "<p>324281 rows × 4 columns</p>\n",
       "</div>"
      ],
      "text/plain": [
       "        discrete_time  PULocationID  DOLocationID  passenger_count\n",
       "0                   0             1             1               39\n",
       "1                   0             1           132                3\n",
       "2                   0             3             3                2\n",
       "3                   0             3            51                2\n",
       "4                   0             3            61                1\n",
       "...               ...           ...           ...              ...\n",
       "324276             30           265           239                1\n",
       "324277             30           265           257                1\n",
       "324278             30           265           262                1\n",
       "324279             30           265           264                2\n",
       "324280             30           265           265              171\n",
       "\n",
       "[324281 rows x 4 columns]"
      ]
     },
     "execution_count": 19,
     "metadata": {},
     "output_type": "execute_result"
    }
   ],
   "source": [
    "#data_19['DOZone'].unique()\n",
    "#data_19['PULocationID'].unique().max()\n",
    "data_19"
   ]
  },
  {
   "cell_type": "code",
   "execution_count": 20,
   "metadata": {},
   "outputs": [],
   "source": [
    "out_array = np.zeros((31,266,266)).astype(np.float)\n",
    "for x in data_19.iterrows():\n",
    "    out_array[int(x[1]['discrete_time'])][int(x[1]['PULocationID'])][int(x[1]['DOLocationID'])] = x[1]['passenger_count']"
   ]
  },
  {
   "cell_type": "code",
   "execution_count": 25,
   "metadata": {},
   "outputs": [
    {
     "name": "stdout",
     "output_type": "stream",
     "text": [
      "[[[0.000e+00 0.000e+00 0.000e+00 ... 0.000e+00 0.000e+00 0.000e+00]\n",
      "  [0.000e+00 2.200e+01 0.000e+00 ... 0.000e+00 0.000e+00 0.000e+00]\n",
      "  [0.000e+00 0.000e+00 0.000e+00 ... 0.000e+00 0.000e+00 0.000e+00]\n",
      "  ...\n",
      "  [0.000e+00 3.000e+00 0.000e+00 ... 5.570e+02 7.000e+00 1.000e+00]\n",
      "  [0.000e+00 5.000e+00 0.000e+00 ... 1.300e+01 6.296e+03 1.900e+01]\n",
      "  [0.000e+00 2.000e+00 0.000e+00 ... 0.000e+00 1.000e+00 1.240e+02]]]\n"
     ]
    }
   ],
   "source": [
    "print (np.median(out_array,axis=0)[None,:,:])"
   ]
  },
  {
   "cell_type": "code",
   "execution_count": 23,
   "metadata": {},
   "outputs": [],
   "source": [
    "out_array_sub = out_array - np.median(out_array,axis=0)[None,:,:]\n",
    "row_sums = np.sqrt(np.maximum(np.multiply(out_array_sub,out_array_sub),1e-20).sum(axis=0)[None,:,:]/out_array.shape[0])\n",
    "norm_out_array = out_array_sub / row_sums\n",
    "norm_out_array.shape\n",
    "np.save('dataset/nyc_taxi_norm_meadian_numpy_complete',norm_out_array)\n",
    "# norm_out_array[20] += 5\n",
    "# np.save('dataset/nyc_taxi_norm_meadian_numpy_20_modified',norm_out_array)\n",
    "\n",
    "#np.save('dataset/nyc_taxi_norm_meadian_numpy_train',norm_out_array[:700])\n",
    "#np.save('dataset/nyc_taxi_norm_meadian_numpy_test_7months',norm_out_array[27:])\n",
    "#np.save('dataset/nyc_taxi_norm_meadian_numpy_test_5months',norm_out_array[29:])\n",
    "#np.save('dataset/nyc_taxi_norm_meadian_numpy_test_3months',norm_out_array[29:32])\n",
    "#np.save('dataset/nyc_taxi_norm_meadian_numpy_test_1months',norm_out_array[31:32])\n",
    "#np.save('dataset/nyc_taxi_norm_meadian_numpy_test_last_2months',norm_out_array[32:])\n",
    "#np.save('dataset/nyc_taxi_norm_meadian_numpy_test',norm_out_array[700:])"
   ]
  },
  {
   "cell_type": "code",
   "execution_count": 22,
   "metadata": {},
   "outputs": [
    {
     "data": {
      "text/html": [
       "<div>\n",
       "<style scoped>\n",
       "    .dataframe tbody tr th:only-of-type {\n",
       "        vertical-align: middle;\n",
       "    }\n",
       "\n",
       "    .dataframe tbody tr th {\n",
       "        vertical-align: top;\n",
       "    }\n",
       "\n",
       "    .dataframe thead th {\n",
       "        text-align: right;\n",
       "    }\n",
       "</style>\n",
       "<table border=\"1\" class=\"dataframe\">\n",
       "  <thead>\n",
       "    <tr style=\"text-align: right;\">\n",
       "      <th></th>\n",
       "      <th>discrete_time</th>\n",
       "      <th>PULocationID</th>\n",
       "      <th>DOLocationID</th>\n",
       "      <th>passenger_count</th>\n",
       "    </tr>\n",
       "  </thead>\n",
       "  <tbody>\n",
       "    <tr>\n",
       "      <th>0</th>\n",
       "      <td>0</td>\n",
       "      <td>1</td>\n",
       "      <td>1</td>\n",
       "      <td>39</td>\n",
       "    </tr>\n",
       "    <tr>\n",
       "      <th>1</th>\n",
       "      <td>0</td>\n",
       "      <td>1</td>\n",
       "      <td>132</td>\n",
       "      <td>3</td>\n",
       "    </tr>\n",
       "    <tr>\n",
       "      <th>2</th>\n",
       "      <td>0</td>\n",
       "      <td>3</td>\n",
       "      <td>3</td>\n",
       "      <td>2</td>\n",
       "    </tr>\n",
       "    <tr>\n",
       "      <th>3</th>\n",
       "      <td>0</td>\n",
       "      <td>3</td>\n",
       "      <td>51</td>\n",
       "      <td>2</td>\n",
       "    </tr>\n",
       "    <tr>\n",
       "      <th>4</th>\n",
       "      <td>0</td>\n",
       "      <td>3</td>\n",
       "      <td>61</td>\n",
       "      <td>1</td>\n",
       "    </tr>\n",
       "    <tr>\n",
       "      <th>...</th>\n",
       "      <td>...</td>\n",
       "      <td>...</td>\n",
       "      <td>...</td>\n",
       "      <td>...</td>\n",
       "    </tr>\n",
       "    <tr>\n",
       "      <th>324276</th>\n",
       "      <td>30</td>\n",
       "      <td>265</td>\n",
       "      <td>239</td>\n",
       "      <td>1</td>\n",
       "    </tr>\n",
       "    <tr>\n",
       "      <th>324277</th>\n",
       "      <td>30</td>\n",
       "      <td>265</td>\n",
       "      <td>257</td>\n",
       "      <td>1</td>\n",
       "    </tr>\n",
       "    <tr>\n",
       "      <th>324278</th>\n",
       "      <td>30</td>\n",
       "      <td>265</td>\n",
       "      <td>262</td>\n",
       "      <td>1</td>\n",
       "    </tr>\n",
       "    <tr>\n",
       "      <th>324279</th>\n",
       "      <td>30</td>\n",
       "      <td>265</td>\n",
       "      <td>264</td>\n",
       "      <td>2</td>\n",
       "    </tr>\n",
       "    <tr>\n",
       "      <th>324280</th>\n",
       "      <td>30</td>\n",
       "      <td>265</td>\n",
       "      <td>265</td>\n",
       "      <td>171</td>\n",
       "    </tr>\n",
       "  </tbody>\n",
       "</table>\n",
       "<p>324281 rows × 4 columns</p>\n",
       "</div>"
      ],
      "text/plain": [
       "        discrete_time  PULocationID  DOLocationID  passenger_count\n",
       "0                   0             1             1               39\n",
       "1                   0             1           132                3\n",
       "2                   0             3             3                2\n",
       "3                   0             3            51                2\n",
       "4                   0             3            61                1\n",
       "...               ...           ...           ...              ...\n",
       "324276             30           265           239                1\n",
       "324277             30           265           257                1\n",
       "324278             30           265           262                1\n",
       "324279             30           265           264                2\n",
       "324280             30           265           265              171\n",
       "\n",
       "[324281 rows x 4 columns]"
      ]
     },
     "execution_count": 22,
     "metadata": {},
     "output_type": "execute_result"
    }
   ],
   "source": [
    "data_19"
   ]
  },
  {
   "cell_type": "code",
   "execution_count": 24,
   "metadata": {},
   "outputs": [],
   "source": [
    "f = open('dataset/nyc_taxi_norm_median_csv_complete.csv','w')\n",
    "f.write('time,PUZone,DOZone,Measure\\n')\n",
    "for i in range(norm_out_array.shape[0]):\n",
    "    for j in range(norm_out_array.shape[1]):    \n",
    "        for k in range(norm_out_array.shape[2]):\n",
    "            f.write('%d,%d,%d,%f\\n'%(i,j,k,norm_out_array[i][j][k]))"
   ]
  },
  {
   "cell_type": "code",
   "execution_count": 35,
   "metadata": {},
   "outputs": [],
   "source": [
    "num_points = int(27*266*266)\n",
    "all_examples = np.zeros((num_points,3))\n",
    "id_ = 0\n",
    "for i in range(2,29):\n",
    "    for j in range(266):\n",
    "        for k in range(266):\n",
    "            all_examples[id_,0] = i\n",
    "            all_examples[id_,1] = j\n",
    "            all_examples[id_,2] = k\n",
    "            id_ += 1\n",
    "np.random.shuffle(all_examples)\n",
    "test_size = int(all_examples.shape[0]/3)\n",
    "np.save('dataset/nyc_taxi_test_examples.npy',all_examples[:test_size])\n",
    "np.save('dataset/nyc_taxi_train_examples.npy',all_examples[test_size:])\n",
    "#outliers_ = np.concatenate((np.random.randint(2,5,(num_points,1)),np.random.randint(0,60,(num_points,1)),np.random.randint(0,84,(num_points,1))),1)"
   ]
  },
  {
   "cell_type": "code",
   "execution_count": 36,
   "metadata": {},
   "outputs": [],
   "source": [
    "num_points = int(26*266*266)\n",
    "no20_examples = np.zeros((num_points,3))\n",
    "id_ = 0\n",
    "for i in range(2,28):\n",
    "    for j in range(266):\n",
    "        for k in range(266):\n",
    "            if (i >= 20):\n",
    "                no20_examples[id_,0] = i+1\n",
    "            else : \n",
    "                no20_examples[id_,0] = i                \n",
    "            no20_examples[id_,1] = j\n",
    "            no20_examples[id_,2] = k\n",
    "            id_ += 1\n",
    "            \n",
    "num_points = int(1*266*266)\n",
    "all_20_examples = np.zeros((num_points,3))\n",
    "id_ = 0\n",
    "for i in range(20,21):\n",
    "    for j in range(266):\n",
    "        for k in range(266):\n",
    "            all_20_examples[id_,0] = i                \n",
    "            all_20_examples[id_,1] = j\n",
    "            all_20_examples[id_,2] = k\n",
    "            id_ += 1\n",
    "np.random.shuffle(all_20_examples)\n",
    "np.random.shuffle(no20_examples)\n",
    "#test_size = int(no20_examples.shape[0]/3)\n",
    "np.save('dataset/nyc_taxi_test_all_20_examples.npy',all_20_examples)\n",
    "np.save('dataset/nyc_taxi_train_all_no20_examples.npy',no20_examples)"
   ]
  },
  {
   "cell_type": "code",
   "execution_count": 65,
   "metadata": {},
   "outputs": [],
   "source": [
    "non_zero_non_20_examples = data_19[[\"discrete_time\",\"PULocationID\",\"DOLocationID\"]].loc[data_19['discrete_time'] > 1].loc[data_19['discrete_time'] != 20].loc[data_19['discrete_time'] < 29].to_numpy()\n",
    "non_zero_20_examples = data_19[[\"discrete_time\",\"PULocationID\",\"DOLocationID\"]].loc[data_19['discrete_time'] == 20].to_numpy()\n",
    "np.random.shuffle(non_zero_non_20_examples)\n",
    "np.random.shuffle(non_zero_20_examples)\n",
    "np.save('dataset/nyc_taxi_test_non_zero_20_examples.npy',non_zero_20_examples)\n",
    "np.save('dataset/nyc_taxi_train_non_zero_no20_examples.npy',non_zero_non_20_examples)"
   ]
  },
  {
   "cell_type": "code",
   "execution_count": 64,
   "metadata": {},
   "outputs": [
    {
     "data": {
      "text/plain": [
       "array([[ 20, 136, 153],\n",
       "       [ 20, 138,  12],\n",
       "       [ 20,  48, 116],\n",
       "       ...,\n",
       "       [ 20, 138, 157],\n",
       "       [ 20, 114,  67],\n",
       "       [ 20,  13, 181]])"
      ]
     },
     "execution_count": 64,
     "metadata": {},
     "output_type": "execute_result"
    }
   ],
   "source": [
    "non_zero_20_examples"
   ]
  },
  {
   "cell_type": "code",
   "execution_count": 1,
   "metadata": {},
   "outputs": [],
   "source": [
    "import csv\n",
    "import torch\n",
    "import pandas as pd\n",
    "import numpy as np\n",
    "from copy import deepcopy\n",
    "import matplotlib.pyplot as plt"
   ]
  },
  {
   "cell_type": "code",
   "execution_count": 70,
   "metadata": {},
   "outputs": [
    {
     "name": "stdout",
     "output_type": "stream",
     "text": [
      "(995, 3)\n"
     ]
    }
   ],
   "source": [
    "######### Generate outlier validation set ##################\n",
    "test_set = np.load('dataset/nyc_taxi_norm_meadian_numpy_test.npy')\n",
    "#print (test_set.shape)\n",
    "num_points = 1000\n",
    "#45,266,7\n",
    "outliers_ = np.concatenate((np.random.randint(2,43,(num_points,1)),np.random.randint(0,266,(num_points,1)),np.random.randint(0,7,(num_points,1))),1)\n",
    "for x in outliers_ :\n",
    "    test_set[x[0],x[1],x[2]] += 3\n",
    "np.save('dataset/nyc_taxi_norm_meadian_numpy_test_modified_our.npy',test_set)\n",
    "np.save('dataset/nyc_taxi_norm_meadian_numpy_test_modified_org_rvae.npy',test_set[2:43])\n",
    "outliers_ = np.unique(outliers_,axis=0)\n",
    "print (outliers_.shape)\n",
    "outliers_ = outliers_.tolist()\n",
    "# plt.scatter(test_set[1],np.zeros(test_set[1].shape))\n",
    "# np.where(test_set[1]>5.5)"
   ]
  },
  {
   "cell_type": "code",
   "execution_count": 13,
   "metadata": {},
   "outputs": [
    {
     "name": "stdout",
     "output_type": "stream",
     "text": [
      "loading dataset\n"
     ]
    }
   ],
   "source": [
    "from helper import NN, Dataset_\n",
    "device = torch.device('cuda:0')\n",
    "loss = torch.nn.L1Loss()\n",
    "batch_size = 128\n",
    "#test_set = Dataset_('dataset/nyc_taxi_norm_meadian_numpy_20_modified.npy','dataset/nyc_taxi_test_all_20_examples.npy')\n",
    "#test_set = Dataset_('dataset/nyc_taxi_norm_meadian_numpy_complete.npy','dataset/nyc_taxi_test_examples.npy')\n",
    "test_set = Dataset_('dataset/nyc_taxi_norm_meadian_numpy_20_modified.npy','dataset/nyc_taxi_test_non_zero_20_examples.npy')\n",
    "\n",
    "test_loader = torch.utils.data.DataLoader(test_set,batch_size = batch_size,drop_last = True)\n",
    "model = NN().to(device)\n",
    "epoch = 60\n",
    "model.load_state_dict(torch.load('/mnt/blossom/more/pbansal/nyc_checkpoints/checkpoint_%d'%epoch))\n",
    "pred_ = []\n",
    "loss_ = 0\n",
    "for x,y,index in test_loader :\n",
    "    with torch.no_grad():\n",
    "        x = x.to(device)\n",
    "        y_pred = model(x)\n",
    "        y = y.to(device)\n",
    "        loss_ += loss(y,y_pred).data\n",
    "        for i in range(batch_size):\n",
    "            y_ = y[i].data.cpu().numpy() \n",
    "            pre_ = y_pred[i].data.cpu().numpy()\n",
    "            pred_.append([y_,pre_])\n",
    "#             if (abs(y_-pre_)>3):\n",
    "#                 outliers.append(((index[0][i],index[1][i],index[2][i]),(y_,pre_)))\n",
    "# loss_ = (loss_/int(len(test_set)/batch_size)).cpu().data.numpy()\n",
    "# print (loss_)\n",
    "pred_ = np.array(pred_)"
   ]
  },
  {
   "cell_type": "code",
   "execution_count": 3,
   "metadata": {},
   "outputs": [
    {
     "name": "stdout",
     "output_type": "stream",
     "text": [
      "loading dataset\n",
      "tensor(4.8294, device='cuda:0')\n"
     ]
    }
   ],
   "source": [
    "from ConditionalPredictor.helper import Dataset_,NN\n",
    "\n",
    "import os\n",
    "\n",
    "batch_size = 64\n",
    "pred_cond_pred = []\n",
    "def test_ ():\n",
    "    #val_set = Dataset_('dataset/nyc_taxi_norm_meadian_numpy_20_modified.npy','dataset/nyc_taxi_test_all_20_examples.npy')\n",
    "    #val_set = Dataset_('dataset/nyc_taxi_norm_meadian_numpy_complete.npy','dataset/nyc_taxi_test_examples.npy')\n",
    "    val_set = Dataset_('dataset/nyc_taxi_norm_meadian_numpy_20_modified.npy','dataset/nyc_taxi_test_non_zero_20_examples.npy')\n",
    "    \n",
    "    val_loader = torch.utils.data.DataLoader(val_set,shuffle=True,batch_size = batch_size,drop_last=True)\n",
    "    model = NN().cuda()\n",
    "    loss = torch.nn.L1Loss()\n",
    "    epoch = 25\n",
    "    model.load_state_dict(torch.load(os.path.join('/mnt/blossom/more/pbansal/nyc_checkpoints_cond_pred/','checkpoint_%d'%epoch)))\n",
    "    loss_ = 0\n",
    "    for x,y,_ in val_loader :\n",
    "        with torch.no_grad():\n",
    "            x = x.cuda()\n",
    "            y_pred = model(x)\n",
    "            y = y.cuda()\n",
    "            loss_ += loss(y,y_pred).data\n",
    "            for i in range(batch_size):\n",
    "                y_ = y[i].data.cpu().numpy() \n",
    "                pre_ = y_pred[i].data.cpu().numpy()\n",
    "                pred_cond_pred.append([y_,pre_])\n",
    "    loss_ = loss_/int(len(val_set)/batch_size)\n",
    "    return loss_\n",
    "print (test_())\n",
    "pred_cond_pred = np.array(pred_cond_pred)"
   ]
  },
  {
   "cell_type": "code",
   "execution_count": 14,
   "metadata": {},
   "outputs": [
    {
     "data": {
      "image/png": "[encoded data removed]",
      "text/plain": [
       "<Figure size 432x288 with 1 Axes>"
      ]
     },
     "metadata": {
      "needs_background": "light"
     },
     "output_type": "display_data"
    }
   ],
   "source": [
    "def plot(pred_):\n",
    "    plt.scatter(pred_[:,0],pred_[:,1])\n",
    "    plt.plot([-6,6],[-6,6],c='r')\n",
    "    plt.plot([-6,6],[-3,9],c='r')\n",
    "    plt.plot([-6,6],[-9,3],c='r')\n",
    "plot(pred_cond_pred[:,:])\n",
    "plot(pred_[:,:])"
   ]
  }
 ],
 "metadata": {
  "kernelspec": {
   "display_name": "Python 3",
   "language": "python",
   "name": "python3"
  },
  "language_info": {
   "codemirror_mode": {
    "name": "ipython",
    "version": 3
   },
   "file_extension": ".py",
   "mimetype": "text/x-python",
   "name": "python",
   "nbconvert_exporter": "python",
   "pygments_lexer": "ipython3",
   "version": "3.6.9"
  }
 },
 "nbformat": 4,
 "nbformat_minor": 4
}
