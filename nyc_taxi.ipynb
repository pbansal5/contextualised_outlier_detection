{
 "cells": [
  {
   "cell_type": "code",
   "execution_count": 1,
   "metadata": {},
   "outputs": [],
   "source": [
    "import numpy as np\n",
    "import pandas as pd\n",
    "import csv\n",
    "import torch\n",
    "import pandas as pd\n",
    "import numpy as np\n",
    "from copy import deepcopy\n",
    "import matplotlib.pyplot as plt\n",
    "\n",
    "df = pd.read_csv('/mnt/blossom/more/pbansal/dataset/nyc_taxi/yellow_tripdata_2019-01.csv')\n",
    "lookup = pd.read_csv('/mnt/blossom/more/pbansal/dataset/nyc_taxi/taxi+_zone_lookup.csv')\n",
    "zone_lookup = dict({})\n",
    "borough_to_code = {\"Brooklyn\":0,\"Manhattan\":1,\"Queens\":2,\"Bronx\":3,\"Unknown\":4,\"EWR\":5,\"Staten Island\":6}\n",
    "for x in lookup.iterrows():\n",
    "    zone_lookup[x[1]['LocationID']] = borough_to_code[x[1]['Borough']]"
   ]
  },
  {
   "cell_type": "code",
   "execution_count": 2,
   "metadata": {},
   "outputs": [
    {
     "name": "stderr",
     "output_type": "stream",
     "text": [
      "/mnt/a99/d0/pbansal/.local/lib/python3.6/site-packages/ipykernel_launcher.py:2: SettingWithCopyWarning: \n",
      "A value is trying to be set on a copy of a slice from a DataFrame.\n",
      "Try using .loc[row_indexer,col_indexer] = value instead\n",
      "\n",
      "See the caveats in the documentation: https://pandas.pydata.org/pandas-docs/stable/user_guide/indexing.html#returning-a-view-versus-a-copy\n",
      "  \n",
      "/mnt/a99/d0/pbansal/.local/lib/python3.6/site-packages/ipykernel_launcher.py:6: SettingWithCopyWarning: \n",
      "A value is trying to be set on a copy of a slice from a DataFrame.\n",
      "Try using .loc[row_indexer,col_indexer] = value instead\n",
      "\n",
      "See the caveats in the documentation: https://pandas.pydata.org/pandas-docs/stable/user_guide/indexing.html#returning-a-view-versus-a-copy\n",
      "  \n"
     ]
    }
   ],
   "source": [
    "data = df[['tpep_pickup_datetime','PULocationID','DOLocationID','passenger_count']]\n",
    "data['discrete_time'] = 0\n",
    "def foo(x):\n",
    "    date_time = pd.to_datetime(x['tpep_pickup_datetime'])\n",
    "    return (((date_time.year-2019)*12 + (date_time.month-1))*31 + (date_time.day-1))#*24 + date_time.hour\n",
    "data['discrete_time'] = data.apply(lambda x : foo(x),axis=1)\n",
    "# data['DOZone'] = data.apply(lambda x : zone_lookup[x['DOLocationID']],axis=1)\n",
    "# data['PUZone'] = data.apply(lambda x : zone_lookup[x['PULocationID']],axis=1)"
   ]
  },
  {
   "cell_type": "code",
   "execution_count": 3,
   "metadata": {},
   "outputs": [],
   "source": [
    "removed_zones = [84,103,104,110,176,199,204]\n",
    "data_19 = data.loc[data['discrete_time'] >= 0].loc[data['discrete_time'] <= 30][['discrete_time','PULocationID','DOLocationID','passenger_count']]\n",
    "data_19 = data_19.groupby([\"discrete_time\",\"PULocationID\",\"DOLocationID\"],as_index=False).sum()\n",
    "data_19 = data_19.loc[~(data_19['PULocationID'].isin(removed_zones))]\n",
    "data_19 = data_19.loc[~(data_19['DOLocationID'].isin(removed_zones))]"
   ]
  },
  {
   "cell_type": "code",
   "execution_count": 4,
   "metadata": {},
   "outputs": [],
   "source": [
    "out_array = np.zeros((31,266,266)).astype(np.float)\n",
    "for x in data_19.iterrows():\n",
    "    out_array[int(x[1]['discrete_time'])][int(x[1]['PULocationID'])][int(x[1]['DOLocationID'])] = x[1]['passenger_count']"
   ]
  },
  {
   "cell_type": "code",
   "execution_count": 5,
   "metadata": {},
   "outputs": [
    {
     "name": "stdout",
     "output_type": "stream",
     "text": [
      "(31, 266, 266)\n",
      "(1, 266, 266)\n"
     ]
    }
   ],
   "source": [
    "out_array_sub = out_array - np.mean(out_array,axis=0)[None,:,:]\n",
    "print(out_array.shape)\n",
    "#print(np.multiply(out_array_sub,out_array_sub).sum(axis=0)[None,:,:])\n",
    "row_sums = np.sqrt(np.maximum(np.multiply(out_array_sub,out_array_sub),1e-20).sum(axis=0)[None,:,:]/out_array.shape[0])\n",
    "#row_sums = np.sqrt(np.multiply(out_array_sub,out_array_sub).sum(axis=0)[None,:,:]/out_array.shape[0])\n",
    "print (row_sums.shape)\n",
    "norm_out_array = out_array_sub / row_sums\n",
    "norm_out_array.shape\n",
    "np.save('dataset/nyc_taxi_norm_mean_numpy_complete',norm_out_array)\n",
    "# norm_out_array[20,:,138] += 5\n",
    "# np.save('dataset/nyc_taxi_norm_meadian_numpy_20_138_modified',norm_out_array)\n",
    "\n",
    "#np.save('dataset/nyc_taxi_norm_meadian_numpy_train',norm_out_array[:700])\n",
    "#np.save('dataset/nyc_taxi_norm_meadian_numpy_test_7months',norm_out_array[27:])\n",
    "#np.save('dataset/nyc_taxi_norm_meadian_numpy_test_5months',norm_out_array[29:])\n",
    "#np.save('dataset/nyc_taxi_norm_meadian_numpy_test_3months',norm_out_array[29:32])\n",
    "#np.save('dataset/nyc_taxi_norm_meadian_numpy_test_1months',norm_out_array[31:32])\n",
    "#np.save('dataset/nyc_taxi_norm_meadian_numpy_test_last_2months',norm_out_array[32:])\n",
    "#np.save('dataset/nyc_taxi_norm_meadian_numpy_test',norm_out_array[700:])"
   ]
  },
  {
   "cell_type": "code",
   "execution_count": 68,
   "metadata": {},
   "outputs": [],
   "source": [
    "# row_sums = np.sqrt(np.maximum(np.multiply(out_array,out_array),1e-20).sum(axis=0)[None,:,:]/out_array.shape[0])\n",
    "# norm_out_array = out_array / row_sums\n",
    "# norm_out_array.shape\n",
    "# np.save('dataset/nyc_taxi_norm_noshift_numpy_complete',norm_out_array)"
   ]
  },
  {
   "cell_type": "code",
   "execution_count": 6,
   "metadata": {},
   "outputs": [],
   "source": [
    "row_sums = np.std(out_array,axis=0,keepdims=True)\n",
    "row_sums[row_sums == 0] = 1\n",
    "norm_out_array = out_array / row_sums\n",
    "norm_out_array.shape\n",
    "np.save('dataset/nyc_taxi_norm_noshift_numpy_complete',norm_out_array)"
   ]
  },
  {
   "cell_type": "code",
   "execution_count": 10,
   "metadata": {},
   "outputs": [],
   "source": [
    "f = open('dataset/nyc_taxi_norm_mean_csv_complete.csv','w')\n",
    "f.write('time,PUZone,DOZone,Measure\\n')\n",
    "for i in range(norm_out_array.shape[0]):\n",
    "    for j in range(norm_out_array.shape[1]):    \n",
    "        for k in range(norm_out_array.shape[2]):\n",
    "            f.write('%d,%d,%d,%f\\n'%(i,j,k,norm_out_array[i][j][k]))"
   ]
  },
  {
   "cell_type": "code",
   "execution_count": 84,
   "metadata": {},
   "outputs": [],
   "source": [
    "# num_points = int(27*266*266)\n",
    "# all_examples = np.zeros((num_points,3))\n",
    "# id_ = 0\n",
    "# for i in range(2,29):\n",
    "#     for j in range(266):\n",
    "#         for k in range(266):\n",
    "#             all_examples[id_,0] = i\n",
    "#             all_examples[id_,1] = j\n",
    "#             all_examples[id_,2] = k\n",
    "#             id_ += 1\n",
    "# np.random.shuffle(all_examples)\n",
    "# test_size = int(all_examples.shape[0]/3)\n",
    "# np.save('dataset/nyc_taxi_test_examples.npy',all_examples[:test_size])\n",
    "# np.save('dataset/nyc_taxi_train_examples.npy',all_examples[test_size:])\n",
    "# #outliers_ = np.concatenate((np.random.randint(2,5,(num_points,1)),np.random.randint(0,60,(num_points,1)),np.random.randint(0,84,(num_points,1))),1)\n",
    "# num_points = int(26*266*266)\n",
    "# no20_examples = np.zeros((num_points,3))\n",
    "# id_ = 0\n",
    "# for i in range(2,28):\n",
    "#     for j in range(266):\n",
    "#         for k in range(266):\n",
    "#             if (i >= 20):\n",
    "#                 no20_examples[id_,0] = i+1\n",
    "#             else : \n",
    "#                 no20_examples[id_,0] = i                \n",
    "#             no20_examples[id_,1] = j\n",
    "#             no20_examples[id_,2] = k\n",
    "#             id_ += 1\n",
    "            \n",
    "# num_points = int(1*266*266)\n",
    "# all_20_examples = np.zeros((num_points,3))\n",
    "# id_ = 0\n",
    "# for i in range(20,21):\n",
    "#     for j in range(266):\n",
    "#         for k in range(266):\n",
    "#             all_20_examples[id_,0] = i                \n",
    "#             all_20_examples[id_,1] = j\n",
    "#             all_20_examples[id_,2] = k\n",
    "#             id_ += 1\n",
    "# np.random.shuffle(all_20_examples)\n",
    "# np.random.shuffle(no20_examples)\n",
    "# #test_size = int(no20_examples.shape[0]/3)\n",
    "# np.save('dataset/nyc_taxi_test_all_20_examples.npy',all_20_examples)\n",
    "# np.save('dataset/nyc_taxi_train_all_no20_examples.npy',no20_examples)\n"
   ]
  },
  {
   "cell_type": "code",
   "execution_count": 7,
   "metadata": {},
   "outputs": [],
   "source": [
    "non_zero_non_20_examples = data_19[[\"discrete_time\",\"PULocationID\",\"DOLocationID\"]].loc[data_19['discrete_time'] > 1].loc[data_19['discrete_time'] != 20].loc[data_19['discrete_time'] < 29].loc[data_19['passenger_count'] != 0].to_numpy()\n",
    "non_zero_20_examples = data_19[[\"discrete_time\",\"PULocationID\",\"DOLocationID\"]].loc[data_19['discrete_time'] == 20].loc[data_19['passenger_count'] != 0].to_numpy()\n",
    "non_zero_examples = data_19[[\"discrete_time\",\"PULocationID\",\"DOLocationID\"]].loc[data_19['discrete_time'] > 1].loc[data_19['discrete_time'] < 29].loc[data_19['passenger_count'] != 0].to_numpy()\n",
    "np.random.shuffle(non_zero_non_20_examples)\n",
    "np.random.shuffle(non_zero_20_examples)\n",
    "np.random.shuffle(non_zero_examples)\n",
    "np.save('dataset/nyc_taxi_test_non_zero_examples.npy',non_zero_examples[:int(non_zero_examples.shape[0]/3)])\n",
    "np.save('dataset/nyc_taxi_train_non_zero_examples.npy',non_zero_examples[int(non_zero_examples.shape[0]/3):])\n",
    "np.save('dataset/nyc_taxi_test_non_zero_20_examples.npy',non_zero_20_examples)\n",
    "np.save('dataset/nyc_taxi_train_non_zero_no20_examples.npy',non_zero_non_20_examples)"
   ]
  },
  {
   "cell_type": "code",
   "execution_count": 8,
   "metadata": {},
   "outputs": [],
   "source": [
    "non_zero_remove2zones_examples = data_19[[\"discrete_time\",\"PULocationID\",\"DOLocationID\"]].loc[(data_19['discrete_time'] < 29) & (data_19['discrete_time'] > 1)].loc[(data_19['PULocationID'] != 138)&(data_19['DOLocationID'] != 100)].loc[data_19['passenger_count'] != 0].to_numpy()\n",
    "non_zero_2zones_examples = data_19[[\"discrete_time\",\"PULocationID\",\"DOLocationID\"]].loc[(data_19['discrete_time'] < 29) & (data_19['discrete_time'] > 1)].loc[(data_19['PULocationID'] == 138)&(data_19['DOLocationID'] == 100)].loc[data_19['passenger_count'] != 0].to_numpy()\n",
    "np.random.shuffle(non_zero_remove2zones_examples)\n",
    "np.random.shuffle(non_zero_2zones_examples)\n",
    "np.save('dataset/nyc_taxi_test_non_zero_2zones_examples.npy',non_zero_2zones_examples)\n",
    "np.save('dataset/nyc_taxi_train_non_zero_2zones_examples.npy',non_zero_remove2zones_examples)"
   ]
  },
  {
   "cell_type": "code",
   "execution_count": 9,
   "metadata": {},
   "outputs": [],
   "source": [
    "non_zero_zonetime_train_examples = data_19[[\"discrete_time\",\"PULocationID\",\"DOLocationID\"]].loc[(data_19['discrete_time'] < 29) & (data_19['discrete_time'] != 20) & (data_19['discrete_time'] > 1)].loc[data_19['DOLocationID'] != 138].loc[data_19['passenger_count'] != 0].to_numpy()\n",
    "non_zero_zonetime_test_examples = data_19[[\"discrete_time\",\"PULocationID\",\"DOLocationID\"]].loc[data_19['discrete_time'] == 20].loc[data_19['DOLocationID'] == 138].loc[data_19['passenger_count'] != 0].to_numpy()\n",
    "np.random.shuffle(non_zero_zonetime_train_examples)\n",
    "np.random.shuffle(non_zero_zonetime_test_examples)\n",
    "np.save('dataset/nyc_taxi_test_non_zero_zonetime_100%_examples.npy',non_zero_zonetime_test_examples)\n",
    "np.save('dataset/nyc_taxi_train_non_zero_zonetime_100%_examples.npy',non_zero_zonetime_train_examples)\n",
    "np.save('dataset/nyc_taxi_test_non_zero_zonetime_50%_examples.npy',non_zero_zonetime_test_examples[:int(non_zero_zonetime_test_examples.shape[0]/2)])\n",
    "np.save('dataset/nyc_taxi_train_non_zero_zonetime_50%_examples.npy',np.concatenate([non_zero_zonetime_train_examples,non_zero_zonetime_test_examples[int(non_zero_zonetime_test_examples.shape[0]/2):]],axis=0))\n"
   ]
  },
  {
   "cell_type": "code",
   "execution_count": 15,
   "metadata": {},
   "outputs": [],
   "source": [
    "np.random.seed(42)\n",
    "\n",
    "non_zero_non_20_examples = data_19[[\"discrete_time\",\"PULocationID\",\"DOLocationID\"]].loc[data_19['discrete_time'] > 1].loc[data_19['discrete_time'] != 20].loc[data_19['discrete_time'] < 29].loc[data_19['passenger_count'] != 0].to_numpy()\n",
    "non_zero_20_examples = data_19[[\"discrete_time\",\"PULocationID\",\"DOLocationID\"]].loc[data_19['discrete_time'] == 20].loc[data_19['passenger_count'] != 0].to_numpy()\n",
    "np.random.shuffle(non_zero_non_20_examples)\n",
    "np.random.shuffle(non_zero_20_examples)\n",
    "size_=100\n",
    "our_outlier_set = non_zero_non_20_examples[:size_]\n",
    "our_non_outlier_set = non_zero_20_examples[:size_]\n",
    "our_train_set = non_zero_non_20_examples[size_:]\n",
    "np.save('dataset/nyc_taxi_train_our_examples.npy',our_train_set[size_:])\n",
    "np.save('dataset/nyc_taxi_test_our_outlier_examples.npy',our_outlier_set)\n",
    "np.save('dataset/nyc_taxi_test_our_inlier_examples.npy',our_non_outlier_set)\n",
    "np.save('dataset/nyc_taxi_test_our_truly_inlier_examples.npy',our_train_set[:size_])\n",
    "\n",
    "out_array_sub = out_array - np.mean(out_array,axis=0)[None,:,:]\n",
    "row_sums = np.sqrt(np.maximum(np.multiply(out_array_sub,out_array_sub),1e-20).sum(axis=0)[None,:,:]/out_array.shape[0])\n",
    "norm_out_array = out_array_sub / row_sums\n",
    "np.save('dataset/nyc_taxi_norm_mean_numpy_complete.npy',norm_out_array)\n",
    "\n",
    "for i in range(non_zero_20_examples.shape[0]):\n",
    "    norm_out_array[non_zero_20_examples[i][0],non_zero_20_examples[i][1],non_zero_20_examples[i][2]] += 3\n",
    "for i in range(100):\n",
    "    norm_out_array[non_zero_non_20_examples[i][0],non_zero_non_20_examples[i][1],non_zero_non_20_examples[i][2]] += 3\n",
    "np.save('dataset/nyc_taxi_norm_mean_numpy_our.npy',norm_out_array)"
   ]
  },
  {
   "cell_type": "code",
   "execution_count": 70,
   "metadata": {},
   "outputs": [
    {
     "name": "stdout",
     "output_type": "stream",
     "text": [
      "(995, 3)\n"
     ]
    }
   ],
   "source": [
    "######### Generate outlier validation set ##################\n",
    "test_set = np.load('dataset/nyc_taxi_norm_meadian_numpy_test.npy')\n",
    "#print (test_set.shape)\n",
    "num_points = 1000\n",
    "#45,266,7\n",
    "outliers_ = np.concatenate((np.random.randint(2,43,(num_points,1)),np.random.randint(0,266,(num_points,1)),np.random.randint(0,7,(num_points,1))),1)\n",
    "for x in outliers_ :\n",
    "    test_set[x[0],x[1],x[2]] += 3\n",
    "np.save('dataset/nyc_taxi_norm_meadian_numpy_test_modified_our.npy',test_set)\n",
    "np.save('dataset/nyc_taxi_norm_meadian_numpy_test_modified_org_rvae.npy',test_set[2:43])\n",
    "outliers_ = np.unique(outliers_,axis=0)\n",
    "print (outliers_.shape)\n",
    "outliers_ = outliers_.tolist()\n",
    "# plt.scatter(test_set[1],np.zeros(test_set[1].shape))\n",
    "# np.where(test_set[1]>5.5)"
   ]
  },
  {
   "cell_type": "code",
   "execution_count": 70,
   "metadata": {},
   "outputs": [
    {
     "name": "stdout",
     "output_type": "stream",
     "text": [
      "loading dataset\n",
      "tensor(1.3778, device='cuda:1')\n"
     ]
    }
   ],
   "source": [
    "from helper import NN, Dataset_\n",
    "device = torch.device('cuda:1')\n",
    "loss = torch.nn.L1Loss()\n",
    "batch_size = 128\n",
    "#test_set = Dataset_('dataset/nyc_taxi_norm_meadian_numpy_20_modified.npy','dataset/nyc_taxi_test_all_20_examples.npy')\n",
    "#test_set = Dataset_('dataset/nyc_taxi_norm_meadian_numpy_complete.npy','dataset/nyc_taxi_test_examples.npy')\n",
    "test_set = Dataset_('dataset/nyc_taxi_norm_meadian_numpy_20_138_modified.npy','dataset/nyc_taxi_test_non_zero_zonetime_100%_examples.npy')\n",
    "#test_set = Dataset_('dataset/nyc_taxi_norm_meadian_numpy_20_modified.npy','dataset/nyc_taxi_test_non_zero_20_examples.npy')\n",
    "#test_set = Dataset_('dataset/nyc_taxi_norm_meadian_numpy_complete.npy','dataset/nyc_taxi_test_non_zero_examples.npy')\n",
    "#test_set = Dataset_('dataset/nyc_taxi_norm_meadian_numpy_complete.npy','dataset/nyc_taxi_test_non_zero_2zones_examples.npy')\n",
    "\n",
    "test_loader = torch.utils.data.DataLoader(test_set,batch_size = batch_size,drop_last = False)\n",
    "model = NN().to(device)\n",
    "epoch = 11\n",
    "model.load_state_dict(torch.load('/mnt/blossom/more/pbansal/nyc_checkpoints/checkpoint_%d'%epoch))\n",
    "pred_ = []\n",
    "loss_ = 0\n",
    "for x,y,index in test_loader :\n",
    "    with torch.no_grad():\n",
    "        x = x.to(device)\n",
    "        y_pred = model(x)\n",
    "        y = y.to(device)\n",
    "        loss_ += loss(y,y_pred).data*x.shape[0]\n",
    "        for i in range(x.shape[0]):\n",
    "            y_ = y[i].data.cpu().numpy() \n",
    "            pre_ = y_pred[i].data.cpu().numpy()\n",
    "            pred_.append([y_,pre_])\n",
    "#             if (abs(y_-pre_)>3):\n",
    "#                 outliers.append(((index[0][i],index[1][i],index[2][i]),(y_,pre_)))\n",
    "loss_ = (loss_/int(len(test_set)))\n",
    "print (loss_)\n",
    "pred_ = np.array(pred_)"
   ]
  },
  {
   "cell_type": "code",
   "execution_count": 73,
   "metadata": {},
   "outputs": [
    {
     "name": "stdout",
     "output_type": "stream",
     "text": [
      "loading dataset\n",
      "tensor(3.6148, device='cuda:1')\n"
     ]
    }
   ],
   "source": [
    "from ConditionalPredictor.helper import Dataset_,NN\n",
    "\n",
    "import os\n",
    "device = torch.device('cuda:1')\n",
    "batch_size = 64\n",
    "pred_cond_pred = []\n",
    "def test_ ():\n",
    "    #val_set = Dataset_('dataset/nyc_taxi_norm_meadian_numpy_20_modified.npy','dataset/nyc_taxi_test_all_20_examples.npy')\n",
    "    #val_set = Dataset_('dataset/nyc_taxi_norm_meadian_numpy_complete.npy','dataset/nyc_taxi_test_examples.npy')\n",
    "    val_set = Dataset_('dataset/nyc_taxi_norm_meadian_numpy_20_138_modified.npy','dataset/nyc_taxi_test_non_zero_zonetime_100%_examples.npy')\n",
    "    #val_set = Dataset_('dataset/nyc_taxi_norm_meadian_numpy_20_modified.npy','dataset/nyc_taxi_test_non_zero_20_examples.npy')\n",
    "    #val_set = Dataset_('dataset/nyc_taxi_norm_meadian_numpy_complete.npy','dataset/nyc_taxi_test_non_zero_examples.npy')\n",
    "    #val_set = Dataset_('dataset/nyc_taxi_norm_meadian_numpy_complete.npy','dataset/nyc_taxi_test_non_zero_2zones_examples.npy')\n",
    "\n",
    "    val_loader = torch.utils.data.DataLoader(val_set,shuffle=True,batch_size = batch_size,drop_last=False)\n",
    "    model = NN().to(device)\n",
    "    loss = torch.nn.L1Loss()\n",
    "    epoch = 99\n",
    "    model.load_state_dict(torch.load(os.path.join('/mnt/blossom/more/pbansal/nyc_checkpoints_cond_pred/','checkpoint_%d'%epoch)))\n",
    "    loss_ = 0\n",
    "    for x,y,_ in val_loader :\n",
    "        with torch.no_grad():\n",
    "            x = x.to(device)\n",
    "            y_pred = model(x)\n",
    "            y = y.to(device)\n",
    "            loss_ += loss(y,y_pred).data*x.shape[0]\n",
    "            for i in range(x.shape[0]):\n",
    "                y_ = y[i].data.cpu().numpy() \n",
    "                pre_ = y_pred[i].data.cpu().numpy()\n",
    "                pred_cond_pred.append([y_,pre_])\n",
    "    loss_ = loss_/int(len(val_set))\n",
    "    return loss_\n",
    "print (test_()) \n",
    "pred_cond_pred = np.array(pred_cond_pred)"
   ]
  },
  {
   "cell_type": "code",
   "execution_count": 74,
   "metadata": {},
   "outputs": [
    {
     "data": {
      "image/png": "[encoded data removed]",
      "text/plain": [
       "<Figure size 432x288 with 1 Axes>"
      ]
     },
     "metadata": {
      "needs_background": "light"
     },
     "output_type": "display_data"
    }
   ],
   "source": [
    "def plot(pred_):\n",
    "    plt.scatter(pred_[:,0],pred_[:,1])#,alpha=0.2,marker='.')\n",
    "#     plt.plot([-6,6],[-6,6],c='r')\n",
    "#     plt.plot([-6,6],[-3,9],c='r')\n",
    "#     plt.plot([-6,6],[-9,3],c='r')\n",
    "    plt.plot([0,10],[0,10],c='r')\n",
    "    plt.plot([0,10],[3,13],c='r')\n",
    "    plt.plot([0,10],[-3,7],c='r')\n",
    "plot(pred_cond_pred[:,:])\n",
    "plot(pred_[:,:])"
   ]
  },
  {
   "cell_type": "code",
   "execution_count": 39,
   "metadata": {},
   "outputs": [],
   "source": [
    "def test_ (model,val_set):\n",
    "    device = torch.device('cuda:1')\n",
    "    batch_size = 64\n",
    "    preds = []\n",
    "    val_loader = torch.utils.data.DataLoader(val_set,shuffle=True,batch_size = batch_size,drop_last=False)\n",
    "    model = model.to(device)\n",
    "    loss_ = 0\n",
    "    for x,y,index in val_loader :\n",
    "        with torch.no_grad():\n",
    "            x = x.to(device)\n",
    "            y_pred,var = model(x)\n",
    "            y = y.to(device)\n",
    "            pred = ((y_pred-y)**2)/var + var\n",
    "            loss_ +=  pred.mean().data*x.shape[0]\n",
    "            pred = torch.exp(-0.5*pred).data\n",
    "            for i in range(x.shape[0]):\n",
    "                preds.append(((int(index[0][i]),int(index[1][i]),int(index[2][i])),float(pred[i]),float(var[i]),float(y_pred[i]),x[i].cpu()))\n",
    "    loss_ = loss_/int(len(val_set))\n",
    "    return loss_,np.array(preds)"
   ]
  },
  {
   "cell_type": "code",
   "execution_count": 8,
   "metadata": {},
   "outputs": [
    {
     "name": "stdout",
     "output_type": "stream",
     "text": [
      "loading dataset\n"
     ]
    },
    {
     "name": "stderr",
     "output_type": "stream",
     "text": [
      "/mnt/a99/d0/pbansal/.local/lib/python3.6/site-packages/ipykernel_launcher.py:19: VisibleDeprecationWarning: Creating an ndarray from ragged nested sequences (which is a list-or-tuple of lists-or-tuples-or ndarrays with different lengths or shapes) is deprecated. If you meant to do this, you must specify 'dtype=object' when creating the ndarray\n"
     ]
    }
   ],
   "source": [
    "import helper\n",
    "import importlib\n",
    "importlib.reload(helper)\n",
    "######## Contextual Analysis ####################\n",
    "\n",
    "# val_set1 = Dataset_('dataset/nyc_taxi_norm_noshift_numpy_our.npy','dataset/nyc_taxi_test_our_outlier_examples.npy')\n",
    "# val_set2 = Dataset_('dataset/nyc_taxi_norm_noshift_numpy_our.npy','dataset/nyc_taxi_test_our_inlier_examples.npy')\n",
    "# val_set3 = Dataset_('dataset/nyc_taxi_norm_noshift_numpy_complete.npy','dataset/nyc_taxi_test_our_truly_inlier_examples.npy')\n",
    "val_set3 = helper.Dataset_('dataset/nyc_taxi_norm_noshift_numpy_complete.npy','dataset/nyc_taxi_test_non_zero_examples.npy')\n",
    "epoch = 33\n",
    "model = helper.NN()\n",
    "model.load_state_dict(torch.load('/mnt/blossom/more/pbansal/nyc_checkpoints/checkpoint_%d'%epoch))\n",
    "\n",
    "#  t_,outlier_scores = test_(model,val_set1)\n",
    "# _,inlier_scores = test_(model,val_set2)\n",
    "_,truly_inlier_scores = test_(model,val_set3)"
   ]
  },
  {
   "cell_type": "code",
   "execution_count": 40,
   "metadata": {},
   "outputs": [
    {
     "name": "stdout",
     "output_type": "stream",
     "text": [
      "loading dataset\n"
     ]
    },
    {
     "name": "stderr",
     "output_type": "stream",
     "text": [
      "/mnt/a99/d0/pbansal/.local/lib/python3.6/site-packages/ipykernel_launcher.py:19: VisibleDeprecationWarning: Creating an ndarray from ragged nested sequences (which is a list-or-tuple of lists-or-tuples-or ndarrays with different lengths or shapes) is deprecated. If you meant to do this, you must specify 'dtype=object' when creating the ndarray\n"
     ]
    }
   ],
   "source": [
    "from ConditionalPredictor.helper import Dataset_ as CondDataset\n",
    "from ConditionalPredictor.helper import NN as CondNN\n",
    "from helper import NN, Dataset_\n",
    "\n",
    "######## CondPred Analysis ####################\n",
    "\n",
    "# val_set1 = CondDataset('dataset/nyc_taxi_norm_mean_numpy_our.npy','dataset/nyc_taxi_test_our_outlier_examples.npy')\n",
    "# val_set2 = CondDataset('dataset/nyc_taxi_norm_mean_numpy_our.npy','dataset/nyc_taxi_test_our_inlier_examples.npy')\n",
    "val_set3 = CondDataset('dataset/nyc_taxi_norm_noshift_numpy_complete.npy','dataset/nyc_taxi_test_non_zero_examples.npy')\n",
    "epoch = 25\n",
    "model = CondNN()\n",
    "model.load_state_dict(torch.load('/mnt/blossom/more/pbansal/nyc_checkpoints_cond_pred/checkpoint_%d'%epoch))\n",
    "\n",
    "# _,cond_outlier_scores = test_(model,val_set1)\n",
    "# _,cond_inlier_scores = test_(model,val_set2)\n",
    "_,cond_truly_inlier_scores = test_(model,val_set3)"
   ]
  },
  {
   "cell_type": "code",
   "execution_count": 42,
   "metadata": {},
   "outputs": [
    {
     "data": {
      "text/plain": [
       "(array([ 6636.,  6220.,  8899., 12529., 16443., 21450., 16800.,  3609.,\n",
       "          681.,    80.]),\n",
       " array([1.882782640905134e-07, 0.09508397834936347, 0.19016776842046285,\n",
       "        0.28525155849156225, 0.3803353485626616, 0.47541913863376095,\n",
       "        0.5705029287048604, 0.6655867187759598, 0.7606705088470591,\n",
       "        0.8557542989181585, 0.9508380889892578], dtype=object),\n",
       " <a list of 10 Patch objects>)"
      ]
     },
     "execution_count": 42,
     "metadata": {},
     "output_type": "execute_result"
    },
    {
     "data": {
      "image/png": "[encoded data removed]",
      "text/plain": [
       "<Figure size 432x288 with 1 Axes>"
      ]
     },
     "metadata": {
      "needs_background": "light"
     },
     "output_type": "display_data"
    }
   ],
   "source": [
    "# plt.hist(cond_inlier_scores[:,1])\n",
    "# plt.hist(inlier_scores[:,1])\n",
    "# plt.hist(cond_outlier_scores[:,1])\n",
    "# plt.hist(outlier_scores[:,1])\n",
    "#plt.hist(cond_truly_inlier_scores[:,1])\n",
    "plt.hist(cond_truly_inlier_scores[:,1])"
   ]
  },
  {
   "cell_type": "code",
   "execution_count": 47,
   "metadata": {
    "scrolled": true
   },
   "outputs": [],
   "source": [
    "# temp = truly_inlier_scores[np.argsort(truly_inlier_scores[:,1])]\n",
    "temp_cond = cond_truly_inlier_scores[np.argsort(cond_truly_inlier_scores[:,1])]\n",
    "temp_cond1 = truly_inlier_scores[np.argsort(cond_truly_inlier_scores[:,1])]"
   ]
  },
  {
   "cell_type": "code",
   "execution_count": 44,
   "metadata": {},
   "outputs": [],
   "source": [
    "complete = np.load('dataset/nyc_taxi_norm_noshift_numpy_complete.npy')"
   ]
  },
  {
   "cell_type": "code",
   "execution_count": 7,
   "metadata": {},
   "outputs": [],
   "source": [
    "[(14,145,145),(20, 36, 112),(20, 148, 138)]"
   ]
  },
  {
   "cell_type": "code",
   "execution_count": 31,
   "metadata": {},
   "outputs": [
    {
     "name": "stdout",
     "output_type": "stream",
     "text": [
      "32433\n"
     ]
    }
   ],
   "source": [
    "for i,x in enumerate(temp):\n",
    "    if (x[0] == (20,249,246)):\n",
    "        print (i)"
   ]
  },
  {
   "cell_type": "code",
   "execution_count": 55,
   "metadata": {},
   "outputs": [
    {
     "name": "stdout",
     "output_type": "stream",
     "text": [
      "[(28, 168, 261) 3.465750523901079e-06 0.864399254322052 1.0785037279129028\n",
      " tensor([ 28., 168., 261.])]\n",
      "Index is :  (28, 168, 261)\n",
      "True Value : 1, Normalised Value : 5.659800, Inlier Prob : 0.000003\n",
      "Time Series Values : \n",
      "[0.         0.         0.         0.         0.         0.\n",
      " 0.         0.         0.         0.         0.         0.\n",
      " 0.         0.         0.         0.         0.         0.\n",
      " 0.         0.         0.         0.         0.         0.\n",
      " 0.         0.         0.         0.         5.65979976 0.\n",
      " 0.        ]\n",
      "Relaxing Time : \n",
      "        discrete_time  PULocationID  DOLocationID  passenger_count\n",
      "299133             28           168           261                1\n"
     ]
    }
   ],
   "source": [
    "i = 5\n",
    "x = temp_cond\n",
    "print(x[i])\n",
    "visualise(x[i][0],x[i][1],complete)"
   ]
  },
  {
   "cell_type": "code",
   "execution_count": 30,
   "metadata": {
    "scrolled": true
   },
   "outputs": [
    {
     "name": "stdout",
     "output_type": "stream",
     "text": [
      "[(20, 249, 246) 0.0 0.029331296682357788 1.1935336589813232\n",
      " tensor([ 20., 249., 246.])]\n",
      "Index is :  (20, 249, 246)\n",
      "True Value : 102, Normalised Value : 1.894253, Inlier Prob : 0.000000\n",
      "Time Series Values : \n",
      "[2.06139282 2.15424836 3.47279692 3.52851024 3.93707458 2.89709262\n",
      " 2.8599504  3.49136803 4.19707007 4.53134999 5.32990757 5.34847868\n",
      " 4.12278565 3.67707909 4.12278565 3.50993913 4.23421229 4.53134999\n",
      " 4.32706782 3.88136126 1.89425287 4.51277888 3.23137253 4.49420778\n",
      " 4.90277212 6.75988277 3.76993462 2.97137704 2.97137704 3.52851024\n",
      " 4.30849671]\n",
      "Relaxing Time : \n",
      "        discrete_time  PULocationID  DOLocationID  passenger_count\n",
      "10614               0           249           246              111\n",
      "20814               1           249           246              116\n",
      "31462               2           249           246              187\n",
      "42244               3           249           246              190\n",
      "52186               4           249           246              212\n",
      "62364               5           249           246              156\n",
      "72645               6           249           246              154\n",
      "83132               7           249           246              188\n",
      "93852               8           249           246              226\n",
      "104727              9           249           246              244\n",
      "115684             10           249           246              287\n",
      "125992             11           249           246              288\n",
      "136010             12           249           246              222\n",
      "146264             13           249           246              198\n",
      "156925             14           249           246              222\n",
      "167657             15           249           246              189\n",
      "178624             16           249           246              228\n",
      "189402             17           249           246              244\n",
      "199495             18           249           246              233\n",
      "208907             19           249           246              209\n",
      "217734             20           249           246              102\n",
      "228008             21           249           246              243\n",
      "238656             22           249           246              174\n",
      "249370             23           249           246              242\n",
      "260488             24           249           246              264\n",
      "270918             25           249           246              364\n",
      "281281             26           249           246              203\n",
      "291697             27           249           246              160\n",
      "302284             28           249           246              160\n",
      "313067             29           249           246              190\n",
      "323606             30           249           246              232\n"
     ]
    }
   ],
   "source": [
    "i = 0\n",
    "print(temp_cond[i])\n",
    "visualise(temp_cond[i][0],temp_cond[i][1],complete)"
   ]
  },
  {
   "cell_type": "code",
   "execution_count": 160,
   "metadata": {},
   "outputs": [
    {
     "name": "stdout",
     "output_type": "stream",
     "text": [
      "0.76125\n",
      "0.8645999999999999\n"
     ]
    },
    {
     "data": {
      "text/plain": [
       "[<matplotlib.lines.Line2D at 0x7fc133693f28>]"
      ]
     },
     "execution_count": 160,
     "metadata": {},
     "output_type": "execute_result"
    },
    {
     "data": {
      "image/png": "[encoded data removed]",
      "text/plain": [
       "<Figure size 432x288 with 1 Axes>"
      ]
     },
     "metadata": {
      "needs_background": "light"
     },
     "output_type": "display_data"
    }
   ],
   "source": [
    "from sklearn.metrics import roc_auc_score,roc_curve,auc,brier_score_loss,accuracy_score\n",
    "import matplotlib.pyplot as plt\n",
    "\n",
    "y_pred = np.concatenate([cond_outlier_scores[:,1],cond_inlier_scores[:,1],cond_truly_inlier_scores[:,1]])\n",
    "y_true = np.concatenate([np.zeros(cond_outlier_scores[:,1].shape),np.ones(cond_inlier_scores[:,1].shape),np.ones(cond_truly_inlier_scores[:,1].shape)])\n",
    "fpr, tpr, threshold = roc_curve(y_true,y_pred)\n",
    "print(auc(fpr,tpr))\n",
    "plt.plot(fpr,tpr)\n",
    "\n",
    "y_pred = np.concatenate([outlier_scores[:,1],inlier_scores[:,1],truly_inlier_scores[:,1]])\n",
    "y_true = np.concatenate([np.zeros(outlier_scores[:,1].shape),np.ones(inlier_scores[:,1].shape),np.ones(truly_inlier_scores[:,1].shape)])\n",
    "fpr, tpr, threshold = roc_curve(y_true,y_pred)\n",
    "print(auc(fpr,tpr))\n",
    "plt.plot(fpr,tpr)"
   ]
  },
  {
   "cell_type": "code",
   "execution_count": 9,
   "metadata": {},
   "outputs": [],
   "source": [
    "def visualise(index,pred,norm_out_array):\n",
    "    print (\"Index is : \",index)\n",
    "    true_value = int(data_19.loc[(data_19[\"discrete_time\"] == index[0]) & (data_19[\"PULocationID\"] == index[1]) & (data_19[\"DOLocationID\"] == index[2])]['passenger_count'])\n",
    "    time_series_value = norm_out_array[:,index[1],index[2]]\n",
    "    normalised_value = time_series_value[index[0]]\n",
    "    print (\"True Value : %d, Normalised Value : %f, Inlier Prob : %f\"%(true_value,normalised_value,pred))\n",
    "    print (\"Time Series Values : \")\n",
    "    print (time_series_value)\n",
    "#     print (\"Relaxing DOLocation : \")\n",
    "#     print (data_19.loc[(data_19[\"discrete_time\"] == index[0]) & (data_19[\"PULocationID\"] == index[1])])\n",
    "#     print (\"Relaxing PULocation : \")\n",
    "#     print (data_19.loc[(data_19[\"discrete_time\"] == index[0]) & (data_19[\"DOLocationID\"] == index[2])])    \n",
    "    print (\"Relaxing Time : \")\n",
    "    print (data_19.loc[(data_19[\"PULocationID\"] == index[1]) & (data_19[\"DOLocationID\"] == index[2])])\n",
    "    "
   ]
  }
 ],
 "metadata": {
  "kernelspec": {
   "display_name": "Python 3",
   "language": "python",
   "name": "python3"
  },
  "language_info": {
   "codemirror_mode": {
    "name": "ipython",
    "version": 3
   },
   "file_extension": ".py",
   "mimetype": "text/x-python",
   "name": "python",
   "nbconvert_exporter": "python",
   "pygments_lexer": "ipython3",
   "version": "3.6.9"
  }
 },
 "nbformat": 4,
 "nbformat_minor": 4
}
